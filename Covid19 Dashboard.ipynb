{
 "cells": [
  {
   "cell_type": "markdown",
   "id": "8f9cd5e2",
   "metadata": {},
   "source": [
    "# Covid-19 Dashboard"
   ]
  },
  {
   "cell_type": "markdown",
   "id": "158be50a",
   "metadata": {},
   "source": [
    "This dashboard presents up-to-date statistics on the Covid-19 pandemic in the form of interactive graphs.\n",
    "\n",
    "It was made using data from [Public Health England](https://www.gov.uk/government/organisations/public-health-england) (PHE), a government agency in the UK."
   ]
  },
  {
   "cell_type": "code",
   "execution_count": 1,
   "id": "d1c846ff",
   "metadata": {},
   "outputs": [],
   "source": [
    "# import the required libraries\n",
    "from IPython.display import clear_output\n",
    "import ipywidgets as wdg\n",
    "import pandas as pd\n",
    "import numpy as np\n",
    "import matplotlib.pyplot as plt\n",
    "import json\n",
    "from uk_covid19 import Cov19API\n",
    "import time"
   ]
  },
  {
   "cell_type": "code",
   "execution_count": 2,
   "id": "58636d4b",
   "metadata": {},
   "outputs": [],
   "source": [
    "# embed matplotlib output\n",
    "%matplotlib inline\n",
    "# make figures larger\n",
    "plt.rcParams['figure.dpi'] = 100"
   ]
  },
  {
   "cell_type": "code",
   "execution_count": 3,
   "id": "1a15aafc",
   "metadata": {},
   "outputs": [],
   "source": [
    "# Load JSON files and store the raw data in variables\n",
    "with open(\"agevaccnorthwest.json\", \"rt\") as INFILE:\n",
    "    data_north_west=json.load(INFILE)\n",
    "\n",
    "with open(\"agevaccnortheast.json\", \"rt\") as INFILE:\n",
    "    data_north_east=json.load(INFILE)\n",
    "\n",
    "with open(\"agevaccsouthwest.json\", \"rt\") as INFILE:\n",
    "    data_south_west=json.load(INFILE)\n",
    "\n",
    "with open(\"agevaccsoutheast.json\", \"rt\") as INFILE:\n",
    "    data_south_east=json.load(INFILE)\n",
    "\n",
    "json_data = [data_north_west, data_north_east, data_south_west, data_south_east]"
   ]
  },
  {
   "cell_type": "code",
   "execution_count": 4,
   "id": "7bd07679",
   "metadata": {},
   "outputs": [],
   "source": [
    "def min_age(agerange):\n",
    "    \"\"\"Extracts the lower limit of the age range so that the age bands can be sorted. Takes the age range\n",
    "    as a parameter and returns the lower limit of the age range as an integer.\"\"\"\n",
    "    agerange = agerange.replace('+','') # remove the +\n",
    "    start = agerange.split('_')[0]\n",
    "    return int(start)"
   ]
  },
  {
   "cell_type": "code",
   "execution_count": 5,
   "id": "335eff24",
   "metadata": {},
   "outputs": [],
   "source": [
    "def assign_data(dataframe, region, datalist):\n",
    "    \"\"\"Assigns the data from the json file to the dataframe. Takes the dataframe, the region name and the data list as parameters.\"\"\"\n",
    "    for entry in datalist: \n",
    "        ageband=entry['age'] \n",
    "        if ageband != '50+' and ageband != '75+':\n",
    "            dataframe.loc[ageband, region]=entry['cumVaccinationCompleteCoverageByVaccinationDatePercentage']"
   ]
  },
  {
   "cell_type": "code",
   "execution_count": 6,
   "id": "24d37c2b",
   "metadata": {},
   "outputs": [],
   "source": [
    "# wrangle the data into a dataframe\n",
    "def wrangle_data(rawdata):\n",
    "    \"\"\"Wranles the data into a dataframe and assigns the data. Takes the raw data as a parameter and returns a filled-in dataframe.\"\"\"\n",
    "    # extract dictionary of the data from list\n",
    "    datadic_north_west = data_north_west['data'][0] \n",
    "    datadic_north_east = data_north_east['data'][0] \n",
    "    datadic_south_west = data_south_west['data'][0] \n",
    "    datadic_south_east = data_south_east['data'][0] \n",
    "\n",
    "    # extract the data from the dictionary\n",
    "    datalist_north_west = datadic_north_west['age_vacc']\n",
    "    datalist_north_east = datadic_north_east['age_vacc']\n",
    "    datalist_south_west = datadic_south_west['age_vacc']\n",
    "    datalist_south_east = datadic_south_east['age_vacc']\n",
    "\n",
    "    # extract the age bands from the data (only need to do this on one data set, as the age bands are all the same)\n",
    "    ageranges=[x['age'] for x in datalist_north_west]\n",
    "\n",
    "    # use min_age function to sort the age bands \n",
    "    ageranges.sort(key=min_age)\n",
    "    #remove redundant age bands\n",
    "    ageranges.remove('50+') # remove the 50+ age band as it is does not contain any data\n",
    "    ageranges.remove('75+') # remove the 75+ age band as it is does not contain any data\n",
    "\n",
    "    # create a dataframe with the age bands as the index and the regions as the columns\n",
    "    age_vacc = pd.DataFrame(index=ageranges, columns=['North West', 'North East', 'South West', 'South East'])\n",
    "\n",
    "    # call the function to assign the data to the dataframe\n",
    "    assign_data(age_vacc, 'North West', datalist_north_west)\n",
    "    assign_data(age_vacc, 'North East', datalist_north_east)\n",
    "    assign_data(age_vacc, 'South West', datalist_south_west)\n",
    "    assign_data(age_vacc, 'South East', datalist_south_east)\n",
    "\n",
    "    return age_vacc\n",
    "\n",
    "age_vacc = wrangle_data(json_data)"
   ]
  },
  {
   "cell_type": "markdown",
   "id": "ba5933f9",
   "metadata": {},
   "source": [
    "## Download Current Data"
   ]
  },
  {
   "cell_type": "markdown",
   "id": "4902704d",
   "metadata": {},
   "source": [
    "Pressing the Refresh button below will ensure that the graphs reflect the current data available from PHE."
   ]
  },
  {
   "cell_type": "code",
   "execution_count": 7,
   "id": "503b417c",
   "metadata": {},
   "outputs": [],
   "source": [
    "def access_api(): \n",
    "    \"\"\" Accesses the PHE API and returns current raw data.\"\"\"\n",
    "    # filter the data received in response to a request\n",
    "    filters_north_west = [\n",
    "    'areaType=region',\n",
    "    'areaName=North West'\n",
    "    ]   \n",
    "\n",
    "    filters_north_east = [\n",
    "    'areaType=region',\n",
    "    'areaName=North East'\n",
    "    ]  \n",
    "\n",
    "    filters_south_west = [\n",
    "    'areaType=region',\n",
    "    'areaName=South West'\n",
    "    ]   \n",
    "\n",
    "    filters_south_east = [\n",
    "    'areaType=region',\n",
    "    'areaName=South East'\n",
    "    ]  \n",
    "    \n",
    "    # define the metrics and structure received in response to a request\n",
    "    structure = {\n",
    "    \"age_vacc\": \"vaccinationsAgeDemographics\"\n",
    "    }\n",
    "\n",
    "    # create an instance of the API by passing the filters and structure to the constructor\n",
    "    api_north_west = Cov19API(filters=filters_north_west, structure=structure)\n",
    "    api_north_east = Cov19API(filters=filters_north_east, structure=structure)\n",
    "    api_south_west = Cov19API(filters=filters_south_west, structure=structure)\n",
    "    api_south_east = Cov19API(filters=filters_south_east, structure=structure)\n",
    "\n",
    "    # send the request to the server and get the response in JSON format\n",
    "    age_vacc_north_west = api_north_west.get_json()\n",
    "    time.sleep(1) # wait 1 second to avoid overloading the API\n",
    "    age_vacc_north_east = api_north_east.get_json()\n",
    "    time.sleep(1)\n",
    "    age_vacc_south_west = api_south_west.get_json()\n",
    "    time.sleep(1)\n",
    "    age_vacc_south_east = api_south_east.get_json()\n",
    "    \n",
    "    return [age_vacc_north_west, age_vacc_north_east, age_vacc_south_west, age_vacc_south_east]"
   ]
  },
  {
   "cell_type": "code",
   "execution_count": 8,
   "id": "c85832db",
   "metadata": {},
   "outputs": [
    {
     "data": {
      "application/vnd.jupyter.widget-view+json": {
       "model_id": "f428d026f7f2429b9e25c049c797feb1",
       "version_major": 2,
       "version_minor": 0
      },
      "text/plain": [
       "Button(button_style='info', description='Refresh data', icon='download', style=ButtonStyle(), tooltip='Click t…"
      ]
     },
     "metadata": {},
     "output_type": "display_data"
    }
   ],
   "source": [
    "def api_button_callback(button):\n",
    "    \"\"\" Button callback - Accesses API, wrangles data, updates global variable df used for plotting. \"\"\"\n",
    "    # get current data from API\n",
    "    apidata=access_api()\n",
    "    # wrangle the data and overwrite the dataframe for plotting\n",
    "    global age_vacc\n",
    "    age_vacc = wrangle_data(apidata)\n",
    "    # simulate interaction with graph to refresh it\n",
    "    refresh_graph()\n",
    "    # update button icon to indicate data has been updated and disable it\n",
    "    apibutton.icon=\"check\"\n",
    "    apibutton.disabled=True\n",
    "\n",
    "# create a button to access the API\n",
    "apibutton=wdg.Button(\n",
    "    description='Refresh data',\n",
    "    disabled=False,\n",
    "    button_style='info', # 'success', 'info', 'warning', 'danger' or ''\n",
    "    tooltip='Click to download current Public Health England data',\n",
    "    icon='download'\n",
    ")\n",
    "\n",
    "# call the function when the button is clicked\n",
    "apibutton.on_click(api_button_callback) \n",
    "\n",
    "display(apibutton)"
   ]
  },
  {
   "cell_type": "markdown",
   "id": "7f61e13b",
   "metadata": {},
   "source": [
    "## Graphs"
   ]
  },
  {
   "cell_type": "markdown",
   "id": "a070bf7a",
   "metadata": {},
   "source": [
    "This graph shows the pecentage of people who have received a Covid-19 vaccination since the start of the pandemic, divided by age group. The age groups are shown along the x-axis, with the percentage on the y-axis. The graph has been divided into regions, North West, North East, South West and South East, which you can select from the dropdown menu."
   ]
  },
  {
   "cell_type": "markdown",
   "id": "04c48a36",
   "metadata": {},
   "source": [
    "Total percentage of people who have received a COVID-19 vaccination since the start of the pandemic, by age group"
   ]
  },
  {
   "cell_type": "code",
   "execution_count": 9,
   "id": "c81c99bd",
   "metadata": {},
   "outputs": [
    {
     "data": {
      "application/vnd.jupyter.widget-view+json": {
       "model_id": "596f1fc668284547bac277f5cbbd4082",
       "version_major": 2,
       "version_minor": 0
      },
      "text/plain": [
       "Dropdown(description='Region: ', options=('North West', 'North East', 'South West', 'South East'), value='Nort…"
      ]
     },
     "metadata": {},
     "output_type": "display_data"
    },
    {
     "data": {
      "application/vnd.jupyter.widget-view+json": {
       "model_id": "ffc237a94c6d4d4dac1342194758c02a",
       "version_major": 2,
       "version_minor": 0
      },
      "text/plain": [
       "Output()"
      ]
     },
     "metadata": {},
     "output_type": "display_data"
    }
   ],
   "source": [
    "def plot_age_vacc(region):\n",
    "    \"\"\"Plots the vaccination coverage by age band for the region selected. Takes the region name as a parameter.\"\"\"\n",
    "    age_vacc[region].plot(kind='bar', y=list(region))\n",
    "    plt.show()\n",
    "\n",
    "# create a dropdown to select the region\n",
    "regions=wdg.Dropdown(\n",
    "    options=['North West', 'North East', 'South West', 'South East'],\n",
    "    value='North West',\n",
    "    description='Region: ',\n",
    "    disabled=False,\n",
    ")\n",
    "\n",
    "def refresh_graph():\n",
    "    \"\"\"Refreshes the graph when the the data is refreshed.\"\"\"\n",
    "    current=regions.value\n",
    "    if current==regions.options[0]:\n",
    "        other=regions.options[1]\n",
    "    else:\n",
    "        other=regions.options[0]\n",
    "    regions.value=other # this forces the redraw\n",
    "    regions.value=current # this changes it back\n",
    "\n",
    "# call the function when the dropdown is changed\n",
    "graph=wdg.interactive_output(plot_age_vacc, {'region': regions})\n",
    "\n",
    "display(regions, graph)"
   ]
  },
  {
   "cell_type": "markdown",
   "id": "6f910109",
   "metadata": {},
   "source": [
    "**Author and Copyright Notice** 2022 Created by Penelope Grayson, with code from Fabrizio Smeraldi (f.smeraldi@qmul.ac.uk - web), all rights reserved."
   ]
  }
 ],
 "metadata": {
  "kernelspec": {
   "display_name": "Python 3.9.12 ('base')",
   "language": "python",
   "name": "python3"
  },
  "language_info": {
   "codemirror_mode": {
    "name": "ipython",
    "version": 3
   },
   "file_extension": ".py",
   "mimetype": "text/x-python",
   "name": "python",
   "nbconvert_exporter": "python",
   "pygments_lexer": "ipython3",
   "version": "3.9.12"
  },
  "vscode": {
   "interpreter": {
    "hash": "b02b0b42a150234389b0029d42ef2a03e2483c0391ebd17313b605ce653dacf9"
   }
  }
 },
 "nbformat": 4,
 "nbformat_minor": 5
}
